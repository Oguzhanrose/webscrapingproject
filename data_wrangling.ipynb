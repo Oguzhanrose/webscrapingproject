{
 "cells": [
  {
   "cell_type": "markdown",
   "id": "a45f9d16",
   "metadata": {},
   "source": [
    "# Manipulate the scraped data"
   ]
  },
  {
   "cell_type": "markdown",
   "id": "bc3af26d",
   "metadata": {
    "heading_collapsed": true
   },
   "source": [
    "## Loading part"
   ]
  },
  {
   "cell_type": "code",
   "execution_count": 1,
   "id": "792e0447",
   "metadata": {
    "code_folding": [],
    "hidden": true
   },
   "outputs": [
    {
     "data": {
      "text/html": [
       "<style>.container { width:78% !important; }</style>"
      ],
      "text/plain": [
       "<IPython.core.display.HTML object>"
      ]
     },
     "metadata": {},
     "output_type": "display_data"
    }
   ],
   "source": [
    "# Import relevant libraries\n",
    "import pandas as pd\n",
    "import requests\n",
    "import shutil\n",
    "\n",
    "from IPython.display import display, HTML\n",
    "display(HTML(\"<style>.container { width:78% !important; }</style>\"))"
   ]
  },
  {
   "cell_type": "code",
   "execution_count": 2,
   "id": "d9b8d8b6",
   "metadata": {
    "hidden": true
   },
   "outputs": [
    {
     "data": {
      "text/html": [
       "<div>\n",
       "<style scoped>\n",
       "    .dataframe tbody tr th:only-of-type {\n",
       "        vertical-align: middle;\n",
       "    }\n",
       "\n",
       "    .dataframe tbody tr th {\n",
       "        vertical-align: top;\n",
       "    }\n",
       "\n",
       "    .dataframe thead th {\n",
       "        text-align: right;\n",
       "    }\n",
       "</style>\n",
       "<table border=\"1\" class=\"dataframe\">\n",
       "  <thead>\n",
       "    <tr style=\"text-align: right;\">\n",
       "      <th></th>\n",
       "      <th>baklava_name</th>\n",
       "      <th>baklava_size</th>\n",
       "      <th>baklava_price</th>\n",
       "      <th>baklava_image_url</th>\n",
       "    </tr>\n",
       "  </thead>\n",
       "  <tbody>\n",
       "    <tr>\n",
       "      <th>0</th>\n",
       "      <td>Pistachio-Walnut Baklava Assortment</td>\n",
       "      <td>XL Metal Box)</td>\n",
       "      <td>\\n€51,71\\n</td>\n",
       "      <td>https://online.hafizmustafa.com/Uploads/UrunRe...</td>\n",
       "    </tr>\n",
       "    <tr>\n",
       "      <th>1</th>\n",
       "      <td>Premium Baklava Assortment</td>\n",
       "      <td>L Metal Box )</td>\n",
       "      <td>\\n€45,96\\n</td>\n",
       "      <td>https://online.hafizmustafa.com/Uploads/UrunRe...</td>\n",
       "    </tr>\n",
       "    <tr>\n",
       "      <th>2</th>\n",
       "      <td>Pistachio-Walnut Baklava Assortment</td>\n",
       "      <td>L Metal Box)</td>\n",
       "      <td>\\n€42,52\\n</td>\n",
       "      <td>https://online.hafizmustafa.com/Uploads/UrunRe...</td>\n",
       "    </tr>\n",
       "    <tr>\n",
       "      <th>3</th>\n",
       "      <td>Pistachio Baklava Assortment</td>\n",
       "      <td>XL Metal Box)</td>\n",
       "      <td>\\n€57,45\\n</td>\n",
       "      <td>https://online.hafizmustafa.com/Uploads/UrunRe...</td>\n",
       "    </tr>\n",
       "    <tr>\n",
       "      <th>4</th>\n",
       "      <td>Pistachio-Walnut Baklava Assortment</td>\n",
       "      <td>S Metal Box)</td>\n",
       "      <td>\\n€21,83\\n</td>\n",
       "      <td>https://online.hafizmustafa.com/Uploads/UrunRe...</td>\n",
       "    </tr>\n",
       "  </tbody>\n",
       "</table>\n",
       "</div>"
      ],
      "text/plain": [
       "                           baklava_name   baklava_size baklava_price  \\\n",
       "0  Pistachio-Walnut Baklava Assortment   XL Metal Box)    \\n€51,71\\n   \n",
       "1           Premium Baklava Assortment   L Metal Box )    \\n€45,96\\n   \n",
       "2  Pistachio-Walnut Baklava Assortment    L Metal Box)    \\n€42,52\\n   \n",
       "3         Pistachio Baklava Assortment   XL Metal Box)    \\n€57,45\\n   \n",
       "4  Pistachio-Walnut Baklava Assortment    S Metal Box)    \\n€21,83\\n   \n",
       "\n",
       "                                   baklava_image_url  \n",
       "0  https://online.hafizmustafa.com/Uploads/UrunRe...  \n",
       "1  https://online.hafizmustafa.com/Uploads/UrunRe...  \n",
       "2  https://online.hafizmustafa.com/Uploads/UrunRe...  \n",
       "3  https://online.hafizmustafa.com/Uploads/UrunRe...  \n",
       "4  https://online.hafizmustafa.com/Uploads/UrunRe...  "
      ]
     },
     "execution_count": 2,
     "metadata": {},
     "output_type": "execute_result"
    }
   ],
   "source": [
    "# Load scraped data\n",
    "df = pd.read_csv('baklava_scrape.csv')\n",
    "df.head()"
   ]
  },
  {
   "cell_type": "markdown",
   "id": "0d55577d",
   "metadata": {
    "heading_collapsed": true
   },
   "source": [
    "## Convert from url to jpg image on the repository"
   ]
  },
  {
   "cell_type": "code",
   "execution_count": 3,
   "id": "89f61fa3",
   "metadata": {
    "hidden": true
   },
   "outputs": [],
   "source": [
    "# Convert from url to jpg image on computer\n",
    "for url in df['baklava_image_url']:\n",
    "    img_data = requests.get(url).content\n",
    "    image_name = url.split(\"thumb/\")[1]\n",
    "    with open(image_name, 'wb') as handler:\n",
    "        handler.write(img_data)\n",
    "        current_dir = image_name\n",
    "        #move_to = f'/Users/oguzhangul/Desktop/image_folder/{image_name}'\n",
    "        move_to = f'./imagefolder/{image_name}'\n",
    "        shutil.move(current_dir,move_to)\n",
    "    "
   ]
  },
  {
   "cell_type": "markdown",
   "id": "e9c3a2ae",
   "metadata": {
    "heading_collapsed": true
   },
   "source": [
    "## Add another feature containing the path to images on repository"
   ]
  },
  {
   "cell_type": "code",
   "execution_count": 4,
   "id": "2ed5e58b",
   "metadata": {
    "hidden": true
   },
   "outputs": [],
   "source": [
    "# Add all path for the image on the repository\n",
    "base = '/imagefolder/'\n",
    "baklava_path = []\n",
    "for url_jpg in df['baklava_image_url']:\n",
    "    baklava_path.append(base + url_jpg.split('thumb/')[1])\n",
    "\n",
    "df['baklava_image_path'] = baklava_path"
   ]
  },
  {
   "cell_type": "code",
   "execution_count": 5,
   "id": "9150cf4f",
   "metadata": {
    "hidden": true
   },
   "outputs": [
    {
     "data": {
      "text/html": [
       "<div>\n",
       "<style scoped>\n",
       "    .dataframe tbody tr th:only-of-type {\n",
       "        vertical-align: middle;\n",
       "    }\n",
       "\n",
       "    .dataframe tbody tr th {\n",
       "        vertical-align: top;\n",
       "    }\n",
       "\n",
       "    .dataframe thead th {\n",
       "        text-align: right;\n",
       "    }\n",
       "</style>\n",
       "<table border=\"1\" class=\"dataframe\">\n",
       "  <thead>\n",
       "    <tr style=\"text-align: right;\">\n",
       "      <th></th>\n",
       "      <th>baklava_name</th>\n",
       "      <th>baklava_size</th>\n",
       "      <th>baklava_price</th>\n",
       "      <th>baklava_image_url</th>\n",
       "      <th>baklava_image_path</th>\n",
       "    </tr>\n",
       "  </thead>\n",
       "  <tbody>\n",
       "    <tr>\n",
       "      <th>0</th>\n",
       "      <td>Pistachio-Walnut Baklava Assortment</td>\n",
       "      <td>XL Metal Box)</td>\n",
       "      <td>\\n€51,71\\n</td>\n",
       "      <td>https://online.hafizmustafa.com/Uploads/UrunRe...</td>\n",
       "      <td>/imagefolder/fistikli-cevizli-karisik-baklava-...</td>\n",
       "    </tr>\n",
       "    <tr>\n",
       "      <th>1</th>\n",
       "      <td>Premium Baklava Assortment</td>\n",
       "      <td>L Metal Box )</td>\n",
       "      <td>\\n€45,96\\n</td>\n",
       "      <td>https://online.hafizmustafa.com/Uploads/UrunRe...</td>\n",
       "      <td>/imagefolder/premium-karisik-baklava-l-kutu-47...</td>\n",
       "    </tr>\n",
       "  </tbody>\n",
       "</table>\n",
       "</div>"
      ],
      "text/plain": [
       "                           baklava_name   baklava_size baklava_price  \\\n",
       "0  Pistachio-Walnut Baklava Assortment   XL Metal Box)    \\n€51,71\\n   \n",
       "1           Premium Baklava Assortment   L Metal Box )    \\n€45,96\\n   \n",
       "\n",
       "                                   baklava_image_url  \\\n",
       "0  https://online.hafizmustafa.com/Uploads/UrunRe...   \n",
       "1  https://online.hafizmustafa.com/Uploads/UrunRe...   \n",
       "\n",
       "                                  baklava_image_path  \n",
       "0  /imagefolder/fistikli-cevizli-karisik-baklava-...  \n",
       "1  /imagefolder/premium-karisik-baklava-l-kutu-47...  "
      ]
     },
     "execution_count": 5,
     "metadata": {},
     "output_type": "execute_result"
    }
   ],
   "source": [
    "# See the new dataframe\n",
    "df.head(2)"
   ]
  },
  {
   "cell_type": "markdown",
   "id": "0a2df6a3",
   "metadata": {},
   "source": [
    "## Cleaning and adding relevant features"
   ]
  },
  {
   "cell_type": "markdown",
   "id": "8839db49",
   "metadata": {},
   "source": [
    "### Adding premium feature"
   ]
  },
  {
   "cell_type": "code",
   "execution_count": 8,
   "id": "30ee334c",
   "metadata": {},
   "outputs": [
    {
     "data": {
      "text/html": [
       "<div>\n",
       "<style scoped>\n",
       "    .dataframe tbody tr th:only-of-type {\n",
       "        vertical-align: middle;\n",
       "    }\n",
       "\n",
       "    .dataframe tbody tr th {\n",
       "        vertical-align: top;\n",
       "    }\n",
       "\n",
       "    .dataframe thead th {\n",
       "        text-align: right;\n",
       "    }\n",
       "</style>\n",
       "<table border=\"1\" class=\"dataframe\">\n",
       "  <thead>\n",
       "    <tr style=\"text-align: right;\">\n",
       "      <th></th>\n",
       "      <th>baklava_name</th>\n",
       "      <th>baklava_size</th>\n",
       "      <th>baklava_price</th>\n",
       "      <th>baklava_image_url</th>\n",
       "      <th>baklava_image_path</th>\n",
       "    </tr>\n",
       "  </thead>\n",
       "  <tbody>\n",
       "    <tr>\n",
       "      <th>0</th>\n",
       "      <td>Pistachio-Walnut Baklava Assortment</td>\n",
       "      <td>XL Metal Box)</td>\n",
       "      <td>\\n€51,71\\n</td>\n",
       "      <td>https://online.hafizmustafa.com/Uploads/UrunRe...</td>\n",
       "      <td>/imagefolder/fistikli-cevizli-karisik-baklava-...</td>\n",
       "    </tr>\n",
       "    <tr>\n",
       "      <th>1</th>\n",
       "      <td>Premium Baklava Assortment</td>\n",
       "      <td>L Metal Box )</td>\n",
       "      <td>\\n€45,96\\n</td>\n",
       "      <td>https://online.hafizmustafa.com/Uploads/UrunRe...</td>\n",
       "      <td>/imagefolder/premium-karisik-baklava-l-kutu-47...</td>\n",
       "    </tr>\n",
       "    <tr>\n",
       "      <th>2</th>\n",
       "      <td>Pistachio-Walnut Baklava Assortment</td>\n",
       "      <td>L Metal Box)</td>\n",
       "      <td>\\n€42,52\\n</td>\n",
       "      <td>https://online.hafizmustafa.com/Uploads/UrunRe...</td>\n",
       "      <td>/imagefolder/fistikli-cevizli-karisik-baklava-...</td>\n",
       "    </tr>\n",
       "    <tr>\n",
       "      <th>3</th>\n",
       "      <td>Pistachio Baklava Assortment</td>\n",
       "      <td>XL Metal Box)</td>\n",
       "      <td>\\n€57,45\\n</td>\n",
       "      <td>https://online.hafizmustafa.com/Uploads/UrunRe...</td>\n",
       "      <td>/imagefolder/fistikli-karisik-baklava-xl-kutu-...</td>\n",
       "    </tr>\n",
       "    <tr>\n",
       "      <th>4</th>\n",
       "      <td>Pistachio-Walnut Baklava Assortment</td>\n",
       "      <td>S Metal Box)</td>\n",
       "      <td>\\n€21,83\\n</td>\n",
       "      <td>https://online.hafizmustafa.com/Uploads/UrunRe...</td>\n",
       "      <td>/imagefolder/fistikli-cevizli-karisik-baklava-...</td>\n",
       "    </tr>\n",
       "    <tr>\n",
       "      <th>...</th>\n",
       "      <td>...</td>\n",
       "      <td>...</td>\n",
       "      <td>...</td>\n",
       "      <td>...</td>\n",
       "      <td>...</td>\n",
       "    </tr>\n",
       "    <tr>\n",
       "      <th>59</th>\n",
       "      <td>Mixed Ottoman Kadayif</td>\n",
       "      <td>500 Gr)</td>\n",
       "      <td>\\n€14,94\\n</td>\n",
       "      <td>https://online.hafizmustafa.com/Uploads/UrunRe...</td>\n",
       "      <td>/imagefolder/karisik-osmanli-kadayifi-500-gr-9...</td>\n",
       "    </tr>\n",
       "    <tr>\n",
       "      <th>60</th>\n",
       "      <td>Fıstıklı Osmanlı Kadayıfı</td>\n",
       "      <td>S Box)</td>\n",
       "      <td>\\n€32,17\\n</td>\n",
       "      <td>https://online.hafizmustafa.com/Uploads/UrunRe...</td>\n",
       "      <td>/imagefolder/fistikli-osmanli-kadayifi-s-kutu-...</td>\n",
       "    </tr>\n",
       "    <tr>\n",
       "      <th>61</th>\n",
       "      <td>Pistachio Halep Kadayif</td>\n",
       "      <td>1 Kg)</td>\n",
       "      <td>\\n€22,98\\n</td>\n",
       "      <td>https://online.hafizmustafa.com/Uploads/UrunRe...</td>\n",
       "      <td>/imagefolder/fistikli-halep-kadayifi-s-kutu-2d...</td>\n",
       "    </tr>\n",
       "    <tr>\n",
       "      <th>62</th>\n",
       "      <td>Halep Turkish Kadayif With Pistachio</td>\n",
       "      <td>L Box)</td>\n",
       "      <td>\\n€40,22\\n</td>\n",
       "      <td>https://online.hafizmustafa.com/Uploads/UrunRe...</td>\n",
       "      <td>/imagefolder/fistikli-halep-l-kutu--c66e-4.jpg</td>\n",
       "    </tr>\n",
       "    <tr>\n",
       "      <th>63</th>\n",
       "      <td>Baklava, Halep Kadayif with Pistachio L Box</td>\n",
       "      <td>NaN</td>\n",
       "      <td>\\n€51,71\\n</td>\n",
       "      <td>https://online.hafizmustafa.com/Uploads/UrunRe...</td>\n",
       "      <td>/imagefolder/fistikli-halep-xl-kutu--1ccf2e.jpg</td>\n",
       "    </tr>\n",
       "  </tbody>\n",
       "</table>\n",
       "<p>64 rows × 5 columns</p>\n",
       "</div>"
      ],
      "text/plain": [
       "                                   baklava_name   baklava_size baklava_price  \\\n",
       "0          Pistachio-Walnut Baklava Assortment   XL Metal Box)    \\n€51,71\\n   \n",
       "1                   Premium Baklava Assortment   L Metal Box )    \\n€45,96\\n   \n",
       "2          Pistachio-Walnut Baklava Assortment    L Metal Box)    \\n€42,52\\n   \n",
       "3                 Pistachio Baklava Assortment   XL Metal Box)    \\n€57,45\\n   \n",
       "4          Pistachio-Walnut Baklava Assortment    S Metal Box)    \\n€21,83\\n   \n",
       "..                                          ...            ...           ...   \n",
       "59                       Mixed Ottoman Kadayif         500 Gr)    \\n€14,94\\n   \n",
       "60                   Fıstıklı Osmanlı Kadayıfı          S Box)    \\n€32,17\\n   \n",
       "61                     Pistachio Halep Kadayif           1 Kg)    \\n€22,98\\n   \n",
       "62        Halep Turkish Kadayif With Pistachio          L Box)    \\n€40,22\\n   \n",
       "63  Baklava, Halep Kadayif with Pistachio L Box            NaN    \\n€51,71\\n   \n",
       "\n",
       "                                    baklava_image_url  \\\n",
       "0   https://online.hafizmustafa.com/Uploads/UrunRe...   \n",
       "1   https://online.hafizmustafa.com/Uploads/UrunRe...   \n",
       "2   https://online.hafizmustafa.com/Uploads/UrunRe...   \n",
       "3   https://online.hafizmustafa.com/Uploads/UrunRe...   \n",
       "4   https://online.hafizmustafa.com/Uploads/UrunRe...   \n",
       "..                                                ...   \n",
       "59  https://online.hafizmustafa.com/Uploads/UrunRe...   \n",
       "60  https://online.hafizmustafa.com/Uploads/UrunRe...   \n",
       "61  https://online.hafizmustafa.com/Uploads/UrunRe...   \n",
       "62  https://online.hafizmustafa.com/Uploads/UrunRe...   \n",
       "63  https://online.hafizmustafa.com/Uploads/UrunRe...   \n",
       "\n",
       "                                   baklava_image_path  \n",
       "0   /imagefolder/fistikli-cevizli-karisik-baklava-...  \n",
       "1   /imagefolder/premium-karisik-baklava-l-kutu-47...  \n",
       "2   /imagefolder/fistikli-cevizli-karisik-baklava-...  \n",
       "3   /imagefolder/fistikli-karisik-baklava-xl-kutu-...  \n",
       "4   /imagefolder/fistikli-cevizli-karisik-baklava-...  \n",
       "..                                                ...  \n",
       "59  /imagefolder/karisik-osmanli-kadayifi-500-gr-9...  \n",
       "60  /imagefolder/fistikli-osmanli-kadayifi-s-kutu-...  \n",
       "61  /imagefolder/fistikli-halep-kadayifi-s-kutu-2d...  \n",
       "62     /imagefolder/fistikli-halep-l-kutu--c66e-4.jpg  \n",
       "63    /imagefolder/fistikli-halep-xl-kutu--1ccf2e.jpg  \n",
       "\n",
       "[64 rows x 5 columns]"
      ]
     },
     "execution_count": 8,
     "metadata": {},
     "output_type": "execute_result"
    }
   ],
   "source": [
    "df"
   ]
  },
  {
   "cell_type": "code",
   "execution_count": 7,
   "id": "3891493a",
   "metadata": {},
   "outputs": [],
   "source": [
    "# Checkpoint for not restarting entire notebook\n",
    "df_clean = df.copy()\n",
    "\n",
    "# Some of the baklava are Premium. Those can have their own feature called premium \n",
    "indexes_premium = df_clean[df_clean['baklava_name'].str.contains('Premium')].index\n",
    "indexes_not_premium = df_clean[~df_clean['baklava_name'].str.contains('Premium')].index\n",
    "\n",
    "#Adding the new feauture with Premium/ Not Premium\n",
    "df_clean.loc[indexes_premium,'premium'] = 'Premium'\n",
    "df_clean.loc[indexes_not_premium,'premium'] = 'Not Premium'\n",
    "\n",
    "#Deleting all the places where Premium appears in name\n",
    "df_clean[\"baklava_name\"] = df_clean[\"baklava_name\"].str.replace(\"Premium \", \"\")"
   ]
  },
  {
   "cell_type": "markdown",
   "id": "aab5cf44",
   "metadata": {},
   "source": [
    "### Cleaning baklava_size feature and handling missing values"
   ]
  },
  {
   "cell_type": "code",
   "execution_count": 10,
   "id": "3cca3983",
   "metadata": {},
   "outputs": [
    {
     "name": "stderr",
     "output_type": "stream",
     "text": [
      "/var/folders/9f/lgl9n9mn15g61b6142584glw0000gn/T/ipykernel_31798/357527930.py:3: FutureWarning: The default value of regex will change from True to False in a future version. In addition, single character regular expressions will *not* be treated as literal strings when regex=True.\n",
      "  df_clean['baklava_size'] = df_clean['baklava_size'].str.replace(')','')\n"
     ]
    }
   ],
   "source": [
    "# We can see many \")\" appears in this feature which easily can be \n",
    "# removed by following line of code \n",
    "df_clean['baklava_size'] = df_clean['baklava_size'].str.replace(')','')\n",
    "\n",
    "# Here we would like see the observations nan appears \n",
    "df_clean[df_clean['baklava_size'].isna()]\n",
    "\n",
    "# We actually see that the size appears in the name\n",
    "df_clean.loc[df_clean['baklava_name'] == 'Ankara Walnut Baklava S Box','baklava_size'] = 'S Box'\n",
    "df_clean.loc[df_clean['baklava_name'] == 'Baklava, Halep Kadayif with Pistachio L Box','baklava_size'] = 'L Box'\n",
    "\n",
    "# Now we can remove the size from its name\n",
    "df_clean['baklava_name'] = df_clean['baklava_name'].str.replace('S Box','')\n",
    "df_clean['baklava_name'] = df_clean['baklava_name'].str.replace('L Box','')\n"
   ]
  },
  {
   "cell_type": "markdown",
   "id": "b511b7da",
   "metadata": {},
   "source": [
    "### Adding Tin feature"
   ]
  },
  {
   "cell_type": "code",
   "execution_count": 48,
   "id": "8713bc14",
   "metadata": {},
   "outputs": [
    {
     "data": {
      "text/plain": [
       "Int64Index([ 0,  1,  2,  3,  4,  5,  6,  7,  9, 12, 13, 14, 15, 16, 17, 18, 19,\n",
       "            20, 21, 22, 23, 24, 25, 26, 28, 30, 31, 32, 33, 34, 35, 36, 37, 38,\n",
       "            39, 40, 41, 42, 43, 44, 45, 46, 47, 48, 49, 50, 51, 52, 53, 54, 55,\n",
       "            56, 57, 58, 59, 60, 61, 62, 63],\n",
       "           dtype='int64')"
      ]
     },
     "execution_count": 48,
     "metadata": {},
     "output_type": "execute_result"
    }
   ],
   "source": [
    "#Checkpoint\n",
    "df1 = df_clean.copy()\n",
    "\n",
    "tin_index_in_name = df1[df1['baklava_name'] == 'HM1864 Mixed Special Metal Tin Box '].index\n",
    "tin_index_in_size = df1[df1['baklava_size'].str.contains('Tin')].index\n",
    "all_tin_indices = tin_index_in_name.union(tin_index_in_size)\n",
    "\n",
    "all_index = df1.index\n",
    "no_tin_indeces = all_index.difference(all_tin_indices)\n",
    "\n"
   ]
  },
  {
   "cell_type": "code",
   "execution_count": null,
   "id": "9542eee4",
   "metadata": {},
   "outputs": [],
   "source": []
  },
  {
   "cell_type": "code",
   "execution_count": 27,
   "id": "326651c1",
   "metadata": {},
   "outputs": [
    {
     "name": "stdout",
     "output_type": "stream",
     "text": [
      "Int64Index([27], dtype='int64')\n",
      "Int64Index([8, 10, 11, 29], dtype='int64')\n",
      "Int64Index([8, 10, 11, 27, 29], dtype='int64')\n",
      "Int64Index([ 0,  1,  2,  3,  4,  5,  6,  7,  8,  9, 10, 11, 12, 13, 14, 15, 16,\n",
      "            17, 18, 19, 20, 21, 22, 23, 24, 25, 26, 28, 29, 30, 31, 32, 33, 34,\n",
      "            35, 36, 37, 38, 39, 40, 41, 42, 43, 44, 45, 46, 47, 48, 49, 50, 51,\n",
      "            52, 53, 54, 55, 56, 57, 58, 59, 60, 61, 62, 63],\n",
      "           dtype='int64')\n",
      "Int64Index([ 0,  1,  2,  3,  4,  5,  6,  7,  9, 12, 13, 14, 15, 16, 17, 18, 19,\n",
      "            20, 21, 22, 23, 24, 25, 26, 27, 28, 30, 31, 32, 33, 34, 35, 36, 37,\n",
      "            38, 39, 40, 41, 42, 43, 44, 45, 46, 47, 48, 49, 50, 51, 52, 53, 54,\n",
      "            55, 56, 57, 58, 59, 60, 61, 62, 63],\n",
      "           dtype='int64')\n",
      "Int64Index([ 0,  1,  2,  3,  4,  5,  6,  7,  8,  9, 10, 11, 12, 13, 14, 15, 16,\n",
      "            17, 18, 19, 20, 21, 22, 23, 24, 25, 26, 27, 28, 29, 30, 31, 32, 33,\n",
      "            34, 35, 36, 37, 38, 39, 40, 41, 42, 43, 44, 45, 46, 47, 48, 49, 50,\n",
      "            51, 52, 53, 54, 55, 56, 57, 58, 59, 60, 61, 62, 63],\n",
      "           dtype='int64')\n"
     ]
    }
   ],
   "source": [
    "#Checkpoint\n",
    "df1 = df_clean.copy()\n",
    "\n",
    "# It appears to the packages are made of Metal and a few are made of TIN\n",
    "# This could also get it own feature \n",
    "df1\n",
    "\n",
    "tin_index_in_name = df1[df1['baklava_name'] == 'HM1864 Mixed Special Metal Tin Box '].index\n",
    "print(tin_index_in_name)\n",
    "tin_index_in_size = df1[df1['baklava_size'].str.contains('Tin')].index\n",
    "print(tin_index_in_size)\n",
    "all_tin_indices = tin_index_in_name.union(tin_index_in_size)\n",
    "print(all_tin_indices)\n",
    "\n",
    "#NOT tin\n",
    "not_tin_index_in_name = df1[~df1['baklava_name'].str.contains('HM1864 Mixed Special Metal Tin Box ')].index\n",
    "print(not_tin_index_in_name)\n",
    "not_tin_index_in_size = df1[~df1['baklava_size'].str.contains('Tin')].index\n",
    "print(not_tin_index_in_size)\n",
    "not_all_tin_indices = not_tin_index_in_name.union(not_tin_index_in_size)\n",
    "print(not_all_tin_indices)\n",
    "\n",
    "#We have found the indices above, and we are creating the feature here\n",
    "df1.loc[all_tin_indices,'tin'] = 'Tin'\n",
    "df1.loc[not_all_tin_indices,'tin'] = 'Not Tin'\n",
    "\n",
    "# Now we would like to remove Tin from all places\n",
    "df1['baklava_name'] = df1['baklava_name'].str.replace(' Metal Tin Box ','')\n"
   ]
  },
  {
   "cell_type": "code",
   "execution_count": null,
   "id": "67546792",
   "metadata": {},
   "outputs": [],
   "source": []
  },
  {
   "cell_type": "code",
   "execution_count": null,
   "id": "a0540df0",
   "metadata": {},
   "outputs": [],
   "source": [
    "df1['tin'].value_counts()"
   ]
  },
  {
   "cell_type": "code",
   "execution_count": null,
   "id": "f489a59c",
   "metadata": {},
   "outputs": [],
   "source": [
    "df[df['baklava_name'] == 'HM1864 Mixed Special']"
   ]
  },
  {
   "cell_type": "code",
   "execution_count": null,
   "id": "e3172739",
   "metadata": {},
   "outputs": [],
   "source": [
    "df['baklava_size'][:40]"
   ]
  },
  {
   "cell_type": "markdown",
   "id": "aaa8857c",
   "metadata": {},
   "source": [
    "### baklava_price"
   ]
  },
  {
   "cell_type": "code",
   "execution_count": null,
   "id": "a4df5c3c",
   "metadata": {},
   "outputs": [],
   "source": []
  },
  {
   "cell_type": "code",
   "execution_count": null,
   "id": "dc5af311",
   "metadata": {},
   "outputs": [],
   "source": []
  }
 ],
 "metadata": {
  "kernelspec": {
   "display_name": "Python 3 (ipykernel)",
   "language": "python",
   "name": "python3"
  },
  "language_info": {
   "codemirror_mode": {
    "name": "ipython",
    "version": 3
   },
   "file_extension": ".py",
   "mimetype": "text/x-python",
   "name": "python",
   "nbconvert_exporter": "python",
   "pygments_lexer": "ipython3",
   "version": "3.8.6"
  },
  "toc": {
   "base_numbering": 1,
   "nav_menu": {},
   "number_sections": true,
   "sideBar": true,
   "skip_h1_title": false,
   "title_cell": "Table of Contents",
   "title_sidebar": "Contents",
   "toc_cell": false,
   "toc_position": {},
   "toc_section_display": true,
   "toc_window_display": true
  }
 },
 "nbformat": 4,
 "nbformat_minor": 5
}
