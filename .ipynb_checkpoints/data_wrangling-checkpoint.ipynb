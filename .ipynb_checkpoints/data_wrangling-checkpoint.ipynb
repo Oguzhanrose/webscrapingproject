{
 "cells": [
  {
   "cell_type": "markdown",
   "id": "a45f9d16",
   "metadata": {},
   "source": [
    "# Manipulate the scraped data"
   ]
  },
  {
   "cell_type": "markdown",
   "id": "57d09d46",
   "metadata": {
    "heading_collapsed": true
   },
   "source": [
    "## Loading part"
   ]
  },
  {
   "cell_type": "code",
   "execution_count": 1,
   "id": "792e0447",
   "metadata": {
    "code_folding": [],
    "hidden": true
   },
   "outputs": [
    {
     "data": {
      "text/html": [
       "<style>.container { width:78% !important; }</style>"
      ],
      "text/plain": [
       "<IPython.core.display.HTML object>"
      ]
     },
     "metadata": {},
     "output_type": "display_data"
    }
   ],
   "source": [
    "# Import relevant libraries\n",
    "import pandas as pd\n",
    "import requests\n",
    "import shutil\n",
    "\n",
    "from IPython.display import display, HTML\n",
    "display(HTML(\"<style>.container { width:78% !important; }</style>\"))"
   ]
  },
  {
   "cell_type": "code",
   "execution_count": 2,
   "id": "d9b8d8b6",
   "metadata": {
    "hidden": true
   },
   "outputs": [
    {
     "data": {
      "text/html": [
       "<div>\n",
       "<style scoped>\n",
       "    .dataframe tbody tr th:only-of-type {\n",
       "        vertical-align: middle;\n",
       "    }\n",
       "\n",
       "    .dataframe tbody tr th {\n",
       "        vertical-align: top;\n",
       "    }\n",
       "\n",
       "    .dataframe thead th {\n",
       "        text-align: right;\n",
       "    }\n",
       "</style>\n",
       "<table border=\"1\" class=\"dataframe\">\n",
       "  <thead>\n",
       "    <tr style=\"text-align: right;\">\n",
       "      <th></th>\n",
       "      <th>baklava_name</th>\n",
       "      <th>baklava_size</th>\n",
       "      <th>baklava_price</th>\n",
       "      <th>baklava_image_url</th>\n",
       "    </tr>\n",
       "  </thead>\n",
       "  <tbody>\n",
       "    <tr>\n",
       "      <th>0</th>\n",
       "      <td>Pistachio-Walnut Baklava Assortment</td>\n",
       "      <td>XL Metal Box)</td>\n",
       "      <td>\\n€51,71\\n</td>\n",
       "      <td>https://online.hafizmustafa.com/Uploads/UrunRe...</td>\n",
       "    </tr>\n",
       "    <tr>\n",
       "      <th>1</th>\n",
       "      <td>Premium Baklava Assortment</td>\n",
       "      <td>L Metal Box )</td>\n",
       "      <td>\\n€45,96\\n</td>\n",
       "      <td>https://online.hafizmustafa.com/Uploads/UrunRe...</td>\n",
       "    </tr>\n",
       "    <tr>\n",
       "      <th>2</th>\n",
       "      <td>Pistachio-Walnut Baklava Assortment</td>\n",
       "      <td>L Metal Box)</td>\n",
       "      <td>\\n€42,52\\n</td>\n",
       "      <td>https://online.hafizmustafa.com/Uploads/UrunRe...</td>\n",
       "    </tr>\n",
       "    <tr>\n",
       "      <th>3</th>\n",
       "      <td>Pistachio Baklava Assortment</td>\n",
       "      <td>XL Metal Box)</td>\n",
       "      <td>\\n€57,45\\n</td>\n",
       "      <td>https://online.hafizmustafa.com/Uploads/UrunRe...</td>\n",
       "    </tr>\n",
       "    <tr>\n",
       "      <th>4</th>\n",
       "      <td>Pistachio-Walnut Baklava Assortment</td>\n",
       "      <td>S Metal Box)</td>\n",
       "      <td>\\n€21,83\\n</td>\n",
       "      <td>https://online.hafizmustafa.com/Uploads/UrunRe...</td>\n",
       "    </tr>\n",
       "  </tbody>\n",
       "</table>\n",
       "</div>"
      ],
      "text/plain": [
       "                           baklava_name   baklava_size baklava_price  \\\n",
       "0  Pistachio-Walnut Baklava Assortment   XL Metal Box)    \\n€51,71\\n   \n",
       "1           Premium Baklava Assortment   L Metal Box )    \\n€45,96\\n   \n",
       "2  Pistachio-Walnut Baklava Assortment    L Metal Box)    \\n€42,52\\n   \n",
       "3         Pistachio Baklava Assortment   XL Metal Box)    \\n€57,45\\n   \n",
       "4  Pistachio-Walnut Baklava Assortment    S Metal Box)    \\n€21,83\\n   \n",
       "\n",
       "                                   baklava_image_url  \n",
       "0  https://online.hafizmustafa.com/Uploads/UrunRe...  \n",
       "1  https://online.hafizmustafa.com/Uploads/UrunRe...  \n",
       "2  https://online.hafizmustafa.com/Uploads/UrunRe...  \n",
       "3  https://online.hafizmustafa.com/Uploads/UrunRe...  \n",
       "4  https://online.hafizmustafa.com/Uploads/UrunRe...  "
      ]
     },
     "execution_count": 2,
     "metadata": {},
     "output_type": "execute_result"
    }
   ],
   "source": [
    "# Load scraped data\n",
    "df = pd.read_csv('baklava_scrape.csv')\n",
    "df.head()"
   ]
  },
  {
   "cell_type": "markdown",
   "id": "9664ccd4",
   "metadata": {
    "heading_collapsed": true
   },
   "source": [
    "## Convert from url to jpg image on the repository"
   ]
  },
  {
   "cell_type": "code",
   "execution_count": 3,
   "id": "89f61fa3",
   "metadata": {
    "hidden": true
   },
   "outputs": [],
   "source": [
    "# Convert from url to jpg image on computer\n",
    "for url in df['baklava_image_url']:\n",
    "    img_data = requests.get(url).content\n",
    "    image_name = url.split(\"thumb/\")[1]\n",
    "    with open(image_name, 'wb') as handler:\n",
    "        handler.write(img_data)\n",
    "        current_dir = image_name\n",
    "        #move_to = f'/Users/oguzhangul/Desktop/image_folder/{image_name}'\n",
    "        move_to = f'./imagefolder/{image_name}'\n",
    "        shutil.move(current_dir,move_to)\n",
    "    "
   ]
  },
  {
   "cell_type": "markdown",
   "id": "d2aecc51",
   "metadata": {
    "heading_collapsed": true
   },
   "source": [
    "## Add another feature containing the path to images on repository"
   ]
  },
  {
   "cell_type": "code",
   "execution_count": 4,
   "id": "2ed5e58b",
   "metadata": {
    "hidden": true
   },
   "outputs": [],
   "source": [
    "# Add all path for the image on the repository\n",
    "base = '/imagefolder/'\n",
    "baklava_path = []\n",
    "for url_jpg in df['baklava_image_url']:\n",
    "    baklava_path.append(base + url_jpg.split('thumb/')[1])\n",
    "\n",
    "df['baklava_image_path'] = baklava_path"
   ]
  },
  {
   "cell_type": "code",
   "execution_count": 5,
   "id": "9150cf4f",
   "metadata": {
    "hidden": true
   },
   "outputs": [
    {
     "data": {
      "text/html": [
       "<div>\n",
       "<style scoped>\n",
       "    .dataframe tbody tr th:only-of-type {\n",
       "        vertical-align: middle;\n",
       "    }\n",
       "\n",
       "    .dataframe tbody tr th {\n",
       "        vertical-align: top;\n",
       "    }\n",
       "\n",
       "    .dataframe thead th {\n",
       "        text-align: right;\n",
       "    }\n",
       "</style>\n",
       "<table border=\"1\" class=\"dataframe\">\n",
       "  <thead>\n",
       "    <tr style=\"text-align: right;\">\n",
       "      <th></th>\n",
       "      <th>baklava_name</th>\n",
       "      <th>baklava_size</th>\n",
       "      <th>baklava_price</th>\n",
       "      <th>baklava_image_url</th>\n",
       "      <th>baklava_image_path</th>\n",
       "    </tr>\n",
       "  </thead>\n",
       "  <tbody>\n",
       "    <tr>\n",
       "      <th>0</th>\n",
       "      <td>Pistachio-Walnut Baklava Assortment</td>\n",
       "      <td>XL Metal Box)</td>\n",
       "      <td>\\n€51,71\\n</td>\n",
       "      <td>https://online.hafizmustafa.com/Uploads/UrunRe...</td>\n",
       "      <td>/imagefolder/fistikli-cevizli-karisik-baklava-...</td>\n",
       "    </tr>\n",
       "    <tr>\n",
       "      <th>1</th>\n",
       "      <td>Premium Baklava Assortment</td>\n",
       "      <td>L Metal Box )</td>\n",
       "      <td>\\n€45,96\\n</td>\n",
       "      <td>https://online.hafizmustafa.com/Uploads/UrunRe...</td>\n",
       "      <td>/imagefolder/premium-karisik-baklava-l-kutu-47...</td>\n",
       "    </tr>\n",
       "  </tbody>\n",
       "</table>\n",
       "</div>"
      ],
      "text/plain": [
       "                           baklava_name   baklava_size baklava_price  \\\n",
       "0  Pistachio-Walnut Baklava Assortment   XL Metal Box)    \\n€51,71\\n   \n",
       "1           Premium Baklava Assortment   L Metal Box )    \\n€45,96\\n   \n",
       "\n",
       "                                   baklava_image_url  \\\n",
       "0  https://online.hafizmustafa.com/Uploads/UrunRe...   \n",
       "1  https://online.hafizmustafa.com/Uploads/UrunRe...   \n",
       "\n",
       "                                  baklava_image_path  \n",
       "0  /imagefolder/fistikli-cevizli-karisik-baklava-...  \n",
       "1  /imagefolder/premium-karisik-baklava-l-kutu-47...  "
      ]
     },
     "execution_count": 5,
     "metadata": {},
     "output_type": "execute_result"
    }
   ],
   "source": [
    "# See the new dataframe\n",
    "df.head(2)"
   ]
  },
  {
   "cell_type": "markdown",
   "id": "f142e3a0",
   "metadata": {},
   "source": [
    "## Cleaning and adding relevant features"
   ]
  },
  {
   "cell_type": "markdown",
   "id": "39e23da5",
   "metadata": {
    "heading_collapsed": true
   },
   "source": [
    "### Adding premium feature"
   ]
  },
  {
   "cell_type": "code",
   "execution_count": 143,
   "id": "28819f63",
   "metadata": {
    "hidden": true
   },
   "outputs": [],
   "source": [
    "# Checkpoint for not restarting entire notebook\n",
    "df_clean = df.copy()\n",
    "\n",
    "# Some of the baklava are Premium. Those can have their own feature called premium \n",
    "indexes_premium = df_clean[df_clean['baklava_name'].str.contains('Premium')].index\n",
    "indexes_not_premium = df_clean[~df_clean['baklava_name'].str.contains('Premium')].index\n",
    "\n",
    "#Adding the new feauture with Premium/ Not Premium\n",
    "df_clean.loc[indexes_premium,'premium'] = 'Premium'\n",
    "df_clean.loc[indexes_not_premium,'premium'] = 'Not Premium'\n",
    "\n",
    "#Deleting all the places where Premium appears in name\n",
    "df_clean[\"baklava_name\"] = df_clean[\"baklava_name\"].str.replace(\"Premium \", \"\")"
   ]
  },
  {
   "cell_type": "markdown",
   "id": "a3949279",
   "metadata": {
    "heading_collapsed": true
   },
   "source": [
    "### Cleaning baklava_size feature and handling missing values"
   ]
  },
  {
   "cell_type": "code",
   "execution_count": 144,
   "id": "6847e515",
   "metadata": {
    "hidden": true
   },
   "outputs": [
    {
     "name": "stderr",
     "output_type": "stream",
     "text": [
      "/var/folders/9f/lgl9n9mn15g61b6142584glw0000gn/T/ipykernel_31798/357527930.py:3: FutureWarning: The default value of regex will change from True to False in a future version. In addition, single character regular expressions will *not* be treated as literal strings when regex=True.\n",
      "  df_clean['baklava_size'] = df_clean['baklava_size'].str.replace(')','')\n"
     ]
    }
   ],
   "source": [
    "# We can see many \")\" appears in this feature which easily can be \n",
    "# removed by following line of code \n",
    "df_clean['baklava_size'] = df_clean['baklava_size'].str.replace(')','')\n",
    "\n",
    "# Here we would like see the observations nan appears \n",
    "df_clean[df_clean['baklava_size'].isna()]\n",
    "\n",
    "# We actually see that the size appears in the name\n",
    "df_clean.loc[df_clean['baklava_name'] == 'Ankara Walnut Baklava S Box','baklava_size'] = 'S Box'\n",
    "df_clean.loc[df_clean['baklava_name'] == 'Baklava, Halep Kadayif with Pistachio L Box','baklava_size'] = 'L Box'\n",
    "\n",
    "# Now we can remove the size from its name\n",
    "df_clean['baklava_name'] = df_clean['baklava_name'].str.replace('S Box','')\n",
    "df_clean['baklava_name'] = df_clean['baklava_name'].str.replace('L Box','')\n"
   ]
  },
  {
   "cell_type": "markdown",
   "id": "afc1bb72",
   "metadata": {
    "heading_collapsed": true
   },
   "source": [
    "### Adding Tin feature and remove whitespace"
   ]
  },
  {
   "cell_type": "code",
   "execution_count": 145,
   "id": "fca9fb80",
   "metadata": {
    "hidden": true
   },
   "outputs": [],
   "source": [
    "# finding the indexes to material with Tin and not Tin\n",
    "tin_index_in_name = df_clean[df_clean['baklava_name'] == 'HM1864 Mixed Special Metal Tin Box '].index\n",
    "tin_index_in_size = df_clean[df_clean['baklava_size'].str.contains('Tin')].index\n",
    "all_tin_indices = tin_index_in_name.union(tin_index_in_size)\n",
    "\n",
    "all_index = df_clean.index\n",
    "no_tin_indeces = all_index.difference(all_tin_indices)\n",
    "\n",
    "# filling the indexes with corresponding package material\n",
    "df_clean.loc[all_tin_indices,'tin'] = 'Tin'\n",
    "df_clean.loc[no_tin_indeces,'tin'] = 'Not Tin'\n",
    "\n",
    "# Remove whether the material is tin or not for all other features\n",
    "df_clean['baklava_name'] = df_clean['baklava_name'].str.replace(' Metal Tin Box ','')\n",
    "df_clean['baklava_size'] = df_clean['baklava_size'].str.replace(' - Tin Box','')\n",
    "\n",
    "#Remove spaces on right and left end of all strings\n",
    "df_clean['baklava_name'] = df_clean['baklava_name'].str.strip()\n",
    "df_clean['baklava_size'] = df_clean['baklava_size'].str.strip()\n"
   ]
  },
  {
   "cell_type": "markdown",
   "id": "04020537",
   "metadata": {
    "heading_collapsed": true
   },
   "source": [
    "### baklava_price"
   ]
  },
  {
   "cell_type": "code",
   "execution_count": 146,
   "id": "fbe70a2b",
   "metadata": {
    "hidden": true
   },
   "outputs": [],
   "source": [
    "# Remove newlines from the feature.\n",
    "df_clean['baklava_price'] = df_clean['baklava_price'].replace('\\n','', regex=True)\n",
    "\n",
    "# Remove euro sign € from the values and add it to feature name\n",
    "df_clean['baklava_price'] = df_clean['baklava_price'].replace('€','', regex=True)\n",
    "\n",
    "#Rename the feature name\n",
    "df_clean = df_clean.rename(columns={'baklava_price': 'baklava_price_euro'})\n",
    "df_clean\n",
    "# Change data type to float\n",
    "df_clean['baklava_price_euro'] = df_clean['baklava_price_euro'].replace(',','.', regex=True)\n",
    "df_clean['baklava_price_euro'] = pd.to_numeric(df_clean['baklava_price_euro'],errors='coerce')"
   ]
  },
  {
   "cell_type": "markdown",
   "id": "93edb33f",
   "metadata": {
    "heading_collapsed": true
   },
   "source": [
    "### Different naming on the size"
   ]
  },
  {
   "cell_type": "code",
   "execution_count": 147,
   "id": "0de529f3",
   "metadata": {
    "hidden": true
   },
   "outputs": [
    {
     "name": "stdout",
     "output_type": "stream",
     "text": [
      "S Box           20\n",
      "XL Metal Box    11\n",
      "L Metal Box      6\n",
      "XL Box           5\n",
      "M Metal Box      4\n",
      "L Box            4\n",
      "S Metal Box      3\n",
      "XL Metal         3\n",
      "L Kutu           2\n",
      "S Metal          1\n",
      "S Kutu           1\n",
      "Large Box        1\n",
      "S                1\n",
      "500 Gr           1\n",
      "1 Kg             1\n",
      "Name: baklava_size, dtype: int64\n"
     ]
    }
   ],
   "source": [
    "# By following code, we can see that same things are named differently or on another language (turkish)\n",
    "# Additionally we see on all images that the packages are the same with metal, so metal wil not be included\n",
    "# and the tin ones are given on another feature, so we are just renaming those we have\n",
    "print(df_clean['baklava_size'].value_counts())\n",
    "df_clean['baklava_size'] = df_clean['baklava_size'].str.replace('XL Metal Box','XL Box')\n",
    "df_clean['baklava_size'] = df_clean['baklava_size'].str.replace('L Metal Box','L Box')\n",
    "df_clean['baklava_size'] = df_clean['baklava_size'].str.replace('M Metal Box','M Box')\n",
    "df_clean['baklava_size'] = df_clean['baklava_size'].str.replace('S Metal Box','S Box')\n",
    "df_clean['baklava_size'] = df_clean['baklava_size'].str.replace('XL Metal','XL Box')\n",
    "df_clean['baklava_size'] = df_clean['baklava_size'].str.replace('L Kutu','L Box')\n",
    "df_clean['baklava_size'] = df_clean['baklava_size'].str.replace('S Metal','S Box')\n",
    "df_clean['baklava_size'] = df_clean['baklava_size'].str.replace('S Kutu','S Box')\n",
    "df_clean['baklava_size'] = df_clean['baklava_size'].str.replace('Large Box','L Box')\n",
    "df_clean['baklava_size'] = df_clean['baklava_size'].str.replace('S','S Box')"
   ]
  },
  {
   "cell_type": "code",
   "execution_count": 148,
   "id": "f68b4617",
   "metadata": {
    "hidden": true
   },
   "outputs": [
    {
     "data": {
      "text/plain": [
       "S Box     26\n",
       "XL Box    19\n",
       "L Box     13\n",
       "M Box      4\n",
       "500 Gr     1\n",
       "1 Kg       1\n",
       "Name: baklava_size, dtype: int64"
      ]
     },
     "execution_count": 148,
     "metadata": {},
     "output_type": "execute_result"
    }
   ],
   "source": [
    "df_clean['baklava_size'] = df_clean['baklava_size'].str.replace('S Box Box','S Box')\n",
    "df_clean['baklava_size'].value_counts()"
   ]
  },
  {
   "cell_type": "markdown",
   "id": "72d7690b",
   "metadata": {},
   "source": [
    "## Data visualization"
   ]
  },
  {
   "cell_type": "code",
   "execution_count": 149,
   "id": "8ae54874",
   "metadata": {},
   "outputs": [
    {
     "data": {
      "text/html": [
       "<div>\n",
       "<style scoped>\n",
       "    .dataframe tbody tr th:only-of-type {\n",
       "        vertical-align: middle;\n",
       "    }\n",
       "\n",
       "    .dataframe tbody tr th {\n",
       "        vertical-align: top;\n",
       "    }\n",
       "\n",
       "    .dataframe thead th {\n",
       "        text-align: right;\n",
       "    }\n",
       "</style>\n",
       "<table border=\"1\" class=\"dataframe\">\n",
       "  <thead>\n",
       "    <tr style=\"text-align: right;\">\n",
       "      <th></th>\n",
       "      <th>baklava_name</th>\n",
       "      <th>baklava_size</th>\n",
       "      <th>baklava_price_euro</th>\n",
       "      <th>baklava_image_url</th>\n",
       "      <th>baklava_image_path</th>\n",
       "      <th>premium</th>\n",
       "      <th>tin</th>\n",
       "    </tr>\n",
       "  </thead>\n",
       "  <tbody>\n",
       "    <tr>\n",
       "      <th>0</th>\n",
       "      <td>Pistachio-Walnut Baklava Assortment</td>\n",
       "      <td>XL Box</td>\n",
       "      <td>51.71</td>\n",
       "      <td>https://online.hafizmustafa.com/Uploads/UrunRe...</td>\n",
       "      <td>/imagefolder/fistikli-cevizli-karisik-baklava-...</td>\n",
       "      <td>Not Premium</td>\n",
       "      <td>Not Tin</td>\n",
       "    </tr>\n",
       "    <tr>\n",
       "      <th>1</th>\n",
       "      <td>Baklava Assortment</td>\n",
       "      <td>L Box</td>\n",
       "      <td>45.96</td>\n",
       "      <td>https://online.hafizmustafa.com/Uploads/UrunRe...</td>\n",
       "      <td>/imagefolder/premium-karisik-baklava-l-kutu-47...</td>\n",
       "      <td>Premium</td>\n",
       "      <td>Not Tin</td>\n",
       "    </tr>\n",
       "    <tr>\n",
       "      <th>2</th>\n",
       "      <td>Pistachio-Walnut Baklava Assortment</td>\n",
       "      <td>L Box</td>\n",
       "      <td>42.52</td>\n",
       "      <td>https://online.hafizmustafa.com/Uploads/UrunRe...</td>\n",
       "      <td>/imagefolder/fistikli-cevizli-karisik-baklava-...</td>\n",
       "      <td>Not Premium</td>\n",
       "      <td>Not Tin</td>\n",
       "    </tr>\n",
       "    <tr>\n",
       "      <th>3</th>\n",
       "      <td>Pistachio Baklava Assortment</td>\n",
       "      <td>XL Box</td>\n",
       "      <td>57.45</td>\n",
       "      <td>https://online.hafizmustafa.com/Uploads/UrunRe...</td>\n",
       "      <td>/imagefolder/fistikli-karisik-baklava-xl-kutu-...</td>\n",
       "      <td>Not Premium</td>\n",
       "      <td>Not Tin</td>\n",
       "    </tr>\n",
       "    <tr>\n",
       "      <th>4</th>\n",
       "      <td>Pistachio-Walnut Baklava Assortment</td>\n",
       "      <td>S Box</td>\n",
       "      <td>21.83</td>\n",
       "      <td>https://online.hafizmustafa.com/Uploads/UrunRe...</td>\n",
       "      <td>/imagefolder/fistikli-cevizli-karisik-baklava-...</td>\n",
       "      <td>Not Premium</td>\n",
       "      <td>Not Tin</td>\n",
       "    </tr>\n",
       "    <tr>\n",
       "      <th>...</th>\n",
       "      <td>...</td>\n",
       "      <td>...</td>\n",
       "      <td>...</td>\n",
       "      <td>...</td>\n",
       "      <td>...</td>\n",
       "      <td>...</td>\n",
       "      <td>...</td>\n",
       "    </tr>\n",
       "    <tr>\n",
       "      <th>59</th>\n",
       "      <td>Mixed Ottoman Kadayif</td>\n",
       "      <td>500 Gr</td>\n",
       "      <td>14.94</td>\n",
       "      <td>https://online.hafizmustafa.com/Uploads/UrunRe...</td>\n",
       "      <td>/imagefolder/karisik-osmanli-kadayifi-500-gr-9...</td>\n",
       "      <td>Not Premium</td>\n",
       "      <td>Not Tin</td>\n",
       "    </tr>\n",
       "    <tr>\n",
       "      <th>60</th>\n",
       "      <td>Fıstıklı Osmanlı Kadayıfı</td>\n",
       "      <td>S Box</td>\n",
       "      <td>32.17</td>\n",
       "      <td>https://online.hafizmustafa.com/Uploads/UrunRe...</td>\n",
       "      <td>/imagefolder/fistikli-osmanli-kadayifi-s-kutu-...</td>\n",
       "      <td>Not Premium</td>\n",
       "      <td>Not Tin</td>\n",
       "    </tr>\n",
       "    <tr>\n",
       "      <th>61</th>\n",
       "      <td>Pistachio Halep Kadayif</td>\n",
       "      <td>1 Kg</td>\n",
       "      <td>22.98</td>\n",
       "      <td>https://online.hafizmustafa.com/Uploads/UrunRe...</td>\n",
       "      <td>/imagefolder/fistikli-halep-kadayifi-s-kutu-2d...</td>\n",
       "      <td>Not Premium</td>\n",
       "      <td>Not Tin</td>\n",
       "    </tr>\n",
       "    <tr>\n",
       "      <th>62</th>\n",
       "      <td>Halep Turkish Kadayif With Pistachio</td>\n",
       "      <td>L Box</td>\n",
       "      <td>40.22</td>\n",
       "      <td>https://online.hafizmustafa.com/Uploads/UrunRe...</td>\n",
       "      <td>/imagefolder/fistikli-halep-l-kutu--c66e-4.jpg</td>\n",
       "      <td>Not Premium</td>\n",
       "      <td>Not Tin</td>\n",
       "    </tr>\n",
       "    <tr>\n",
       "      <th>63</th>\n",
       "      <td>Baklava, Halep Kadayif with Pistachio</td>\n",
       "      <td>L Box</td>\n",
       "      <td>51.71</td>\n",
       "      <td>https://online.hafizmustafa.com/Uploads/UrunRe...</td>\n",
       "      <td>/imagefolder/fistikli-halep-xl-kutu--1ccf2e.jpg</td>\n",
       "      <td>Not Premium</td>\n",
       "      <td>Not Tin</td>\n",
       "    </tr>\n",
       "  </tbody>\n",
       "</table>\n",
       "<p>64 rows × 7 columns</p>\n",
       "</div>"
      ],
      "text/plain": [
       "                             baklava_name baklava_size  baklava_price_euro  \\\n",
       "0     Pistachio-Walnut Baklava Assortment       XL Box               51.71   \n",
       "1                      Baklava Assortment        L Box               45.96   \n",
       "2     Pistachio-Walnut Baklava Assortment        L Box               42.52   \n",
       "3            Pistachio Baklava Assortment       XL Box               57.45   \n",
       "4     Pistachio-Walnut Baklava Assortment        S Box               21.83   \n",
       "..                                    ...          ...                 ...   \n",
       "59                  Mixed Ottoman Kadayif       500 Gr               14.94   \n",
       "60              Fıstıklı Osmanlı Kadayıfı        S Box               32.17   \n",
       "61                Pistachio Halep Kadayif         1 Kg               22.98   \n",
       "62   Halep Turkish Kadayif With Pistachio        L Box               40.22   \n",
       "63  Baklava, Halep Kadayif with Pistachio        L Box               51.71   \n",
       "\n",
       "                                    baklava_image_url  \\\n",
       "0   https://online.hafizmustafa.com/Uploads/UrunRe...   \n",
       "1   https://online.hafizmustafa.com/Uploads/UrunRe...   \n",
       "2   https://online.hafizmustafa.com/Uploads/UrunRe...   \n",
       "3   https://online.hafizmustafa.com/Uploads/UrunRe...   \n",
       "4   https://online.hafizmustafa.com/Uploads/UrunRe...   \n",
       "..                                                ...   \n",
       "59  https://online.hafizmustafa.com/Uploads/UrunRe...   \n",
       "60  https://online.hafizmustafa.com/Uploads/UrunRe...   \n",
       "61  https://online.hafizmustafa.com/Uploads/UrunRe...   \n",
       "62  https://online.hafizmustafa.com/Uploads/UrunRe...   \n",
       "63  https://online.hafizmustafa.com/Uploads/UrunRe...   \n",
       "\n",
       "                                   baklava_image_path      premium      tin  \n",
       "0   /imagefolder/fistikli-cevizli-karisik-baklava-...  Not Premium  Not Tin  \n",
       "1   /imagefolder/premium-karisik-baklava-l-kutu-47...      Premium  Not Tin  \n",
       "2   /imagefolder/fistikli-cevizli-karisik-baklava-...  Not Premium  Not Tin  \n",
       "3   /imagefolder/fistikli-karisik-baklava-xl-kutu-...  Not Premium  Not Tin  \n",
       "4   /imagefolder/fistikli-cevizli-karisik-baklava-...  Not Premium  Not Tin  \n",
       "..                                                ...          ...      ...  \n",
       "59  /imagefolder/karisik-osmanli-kadayifi-500-gr-9...  Not Premium  Not Tin  \n",
       "60  /imagefolder/fistikli-osmanli-kadayifi-s-kutu-...  Not Premium  Not Tin  \n",
       "61  /imagefolder/fistikli-halep-kadayifi-s-kutu-2d...  Not Premium  Not Tin  \n",
       "62     /imagefolder/fistikli-halep-l-kutu--c66e-4.jpg  Not Premium  Not Tin  \n",
       "63    /imagefolder/fistikli-halep-xl-kutu--1ccf2e.jpg  Not Premium  Not Tin  \n",
       "\n",
       "[64 rows x 7 columns]"
      ]
     },
     "execution_count": 149,
     "metadata": {},
     "output_type": "execute_result"
    }
   ],
   "source": [
    "df_clean"
   ]
  },
  {
   "cell_type": "code",
   "execution_count": null,
   "id": "964a0c98",
   "metadata": {},
   "outputs": [],
   "source": []
  }
 ],
 "metadata": {
  "kernelspec": {
   "display_name": "Python 3 (ipykernel)",
   "language": "python",
   "name": "python3"
  },
  "language_info": {
   "codemirror_mode": {
    "name": "ipython",
    "version": 3
   },
   "file_extension": ".py",
   "mimetype": "text/x-python",
   "name": "python",
   "nbconvert_exporter": "python",
   "pygments_lexer": "ipython3",
   "version": "3.8.6"
  },
  "toc": {
   "base_numbering": 1,
   "nav_menu": {},
   "number_sections": true,
   "sideBar": true,
   "skip_h1_title": false,
   "title_cell": "Table of Contents",
   "title_sidebar": "Contents",
   "toc_cell": false,
   "toc_position": {},
   "toc_section_display": true,
   "toc_window_display": true
  }
 },
 "nbformat": 4,
 "nbformat_minor": 5
}
